{
 "cells": [
  {
   "cell_type": "code",
   "execution_count": 1,
   "metadata": {},
   "outputs": [],
   "source": [
    "import pandas as pd\n",
    "import numpy as np\n",
    "from datetime import datetime"
   ]
  },
  {
   "cell_type": "code",
   "execution_count": 43,
   "metadata": {},
   "outputs": [
    {
     "data": {
      "text/html": [
       "<div>\n",
       "<style scoped>\n",
       "    .dataframe tbody tr th:only-of-type {\n",
       "        vertical-align: middle;\n",
       "    }\n",
       "\n",
       "    .dataframe tbody tr th {\n",
       "        vertical-align: top;\n",
       "    }\n",
       "\n",
       "    .dataframe thead th {\n",
       "        text-align: right;\n",
       "    }\n",
       "</style>\n",
       "<table border=\"1\" class=\"dataframe\">\n",
       "  <thead>\n",
       "    <tr style=\"text-align: right;\">\n",
       "      <th></th>\n",
       "      <th>precipitacao</th>\n",
       "      <th>pressao_atm</th>\n",
       "      <th>temperatura</th>\n",
       "      <th>temperatura_orvalho</th>\n",
       "      <th>umidade_rel_ar</th>\n",
       "      <th>data</th>\n",
       "    </tr>\n",
       "  </thead>\n",
       "  <tbody>\n",
       "    <tr>\n",
       "      <th>0</th>\n",
       "      <td>0.0</td>\n",
       "      <td>921.47</td>\n",
       "      <td>19.33</td>\n",
       "      <td>19.33</td>\n",
       "      <td>100.00</td>\n",
       "      <td>2022-01-01 00:00:00</td>\n",
       "    </tr>\n",
       "    <tr>\n",
       "      <th>1</th>\n",
       "      <td>0.0</td>\n",
       "      <td>921.73</td>\n",
       "      <td>19.33</td>\n",
       "      <td>19.33</td>\n",
       "      <td>100.00</td>\n",
       "      <td>2022-01-01 01:00:00</td>\n",
       "    </tr>\n",
       "    <tr>\n",
       "      <th>2</th>\n",
       "      <td>0.0</td>\n",
       "      <td>921.70</td>\n",
       "      <td>19.30</td>\n",
       "      <td>19.30</td>\n",
       "      <td>100.00</td>\n",
       "      <td>2022-01-01 02:00:00</td>\n",
       "    </tr>\n",
       "    <tr>\n",
       "      <th>3</th>\n",
       "      <td>0.0</td>\n",
       "      <td>921.53</td>\n",
       "      <td>19.03</td>\n",
       "      <td>19.00</td>\n",
       "      <td>100.00</td>\n",
       "      <td>2022-01-01 03:00:00</td>\n",
       "    </tr>\n",
       "    <tr>\n",
       "      <th>4</th>\n",
       "      <td>0.2</td>\n",
       "      <td>920.97</td>\n",
       "      <td>18.67</td>\n",
       "      <td>18.67</td>\n",
       "      <td>100.00</td>\n",
       "      <td>2022-01-01 04:00:00</td>\n",
       "    </tr>\n",
       "    <tr>\n",
       "      <th>...</th>\n",
       "      <td>...</td>\n",
       "      <td>...</td>\n",
       "      <td>...</td>\n",
       "      <td>...</td>\n",
       "      <td>...</td>\n",
       "      <td>...</td>\n",
       "    </tr>\n",
       "    <tr>\n",
       "      <th>7291</th>\n",
       "      <td>1.6</td>\n",
       "      <td>923.00</td>\n",
       "      <td>21.90</td>\n",
       "      <td>19.67</td>\n",
       "      <td>86.67</td>\n",
       "      <td>2023-10-31 19:00:00</td>\n",
       "    </tr>\n",
       "    <tr>\n",
       "      <th>7292</th>\n",
       "      <td>0.2</td>\n",
       "      <td>922.87</td>\n",
       "      <td>20.67</td>\n",
       "      <td>19.00</td>\n",
       "      <td>90.00</td>\n",
       "      <td>2023-10-31 20:00:00</td>\n",
       "    </tr>\n",
       "    <tr>\n",
       "      <th>7293</th>\n",
       "      <td>0.0</td>\n",
       "      <td>923.27</td>\n",
       "      <td>20.67</td>\n",
       "      <td>19.43</td>\n",
       "      <td>92.67</td>\n",
       "      <td>2023-10-31 21:00:00</td>\n",
       "    </tr>\n",
       "    <tr>\n",
       "      <th>7294</th>\n",
       "      <td>0.0</td>\n",
       "      <td>923.70</td>\n",
       "      <td>20.37</td>\n",
       "      <td>19.30</td>\n",
       "      <td>93.33</td>\n",
       "      <td>2023-10-31 22:00:00</td>\n",
       "    </tr>\n",
       "    <tr>\n",
       "      <th>7295</th>\n",
       "      <td>0.0</td>\n",
       "      <td>924.00</td>\n",
       "      <td>20.37</td>\n",
       "      <td>19.33</td>\n",
       "      <td>94.00</td>\n",
       "      <td>2023-10-31 23:00:00</td>\n",
       "    </tr>\n",
       "  </tbody>\n",
       "</table>\n",
       "<p>16056 rows × 6 columns</p>\n",
       "</div>"
      ],
      "text/plain": [
       "      precipitacao  pressao_atm  temperatura  temperatura_orvalho  \\\n",
       "0              0.0       921.47        19.33                19.33   \n",
       "1              0.0       921.73        19.33                19.33   \n",
       "2              0.0       921.70        19.30                19.30   \n",
       "3              0.0       921.53        19.03                19.00   \n",
       "4              0.2       920.97        18.67                18.67   \n",
       "...            ...          ...          ...                  ...   \n",
       "7291           1.6       923.00        21.90                19.67   \n",
       "7292           0.2       922.87        20.67                19.00   \n",
       "7293           0.0       923.27        20.67                19.43   \n",
       "7294           0.0       923.70        20.37                19.30   \n",
       "7295           0.0       924.00        20.37                19.33   \n",
       "\n",
       "      umidade_rel_ar                data  \n",
       "0             100.00 2022-01-01 00:00:00  \n",
       "1             100.00 2022-01-01 01:00:00  \n",
       "2             100.00 2022-01-01 02:00:00  \n",
       "3             100.00 2022-01-01 03:00:00  \n",
       "4             100.00 2022-01-01 04:00:00  \n",
       "...              ...                 ...  \n",
       "7291           86.67 2023-10-31 19:00:00  \n",
       "7292           90.00 2023-10-31 20:00:00  \n",
       "7293           92.67 2023-10-31 21:00:00  \n",
       "7294           93.33 2023-10-31 22:00:00  \n",
       "7295           94.00 2023-10-31 23:00:00  \n",
       "\n",
       "[16056 rows x 6 columns]"
      ]
     },
     "execution_count": 43,
     "metadata": {},
     "output_type": "execute_result"
    }
   ],
   "source": [
    "df = pd.read_parquet('df_clima_sp.parquet')\n",
    "df['precipitacao'] = df['precipitacao'].str.replace(',','.').astype(float)\n",
    "df"
   ]
  },
  {
   "cell_type": "code",
   "execution_count": null,
   "metadata": {},
   "outputs": [],
   "source": []
  },
  {
   "cell_type": "code",
   "execution_count": 3,
   "metadata": {},
   "outputs": [
    {
     "data": {
      "text/plain": [
       "precipitacao           655\n",
       "pressao_atm            173\n",
       "temperatura            173\n",
       "temperatura_orvalho    173\n",
       "umidade_rel_ar         173\n",
       "data                     0\n",
       "dtype: int64"
      ]
     },
     "execution_count": 3,
     "metadata": {},
     "output_type": "execute_result"
    }
   ],
   "source": [
    "df.isnull().sum()"
   ]
  },
  {
   "cell_type": "code",
   "execution_count": 41,
   "metadata": {},
   "outputs": [
    {
     "data": {
      "text/plain": [
       "precipitacao           0\n",
       "pressao_atm            0\n",
       "temperatura            0\n",
       "temperatura_orvalho    0\n",
       "umidade_rel_ar         0\n",
       "data                   0\n",
       "dtype: int64"
      ]
     },
     "execution_count": 41,
     "metadata": {},
     "output_type": "execute_result"
    }
   ],
   "source": [
    "# df = df.ffill()\n",
    "# df.isnull().sum()"
   ]
  },
  {
   "cell_type": "code",
   "execution_count": 44,
   "metadata": {},
   "outputs": [],
   "source": [
    "precipitacao_mean = round(df['precipitacao'].mean(), 2)"
   ]
  },
  {
   "cell_type": "code",
   "execution_count": 45,
   "metadata": {},
   "outputs": [
    {
     "data": {
      "text/plain": [
       "precipitacao           0\n",
       "pressao_atm            0\n",
       "temperatura            0\n",
       "temperatura_orvalho    0\n",
       "umidade_rel_ar         0\n",
       "data                   0\n",
       "dtype: int64"
      ]
     },
     "execution_count": 45,
     "metadata": {},
     "output_type": "execute_result"
    }
   ],
   "source": [
    "df['precipitacao'] = df['precipitacao'].fillna(precipitacao_mean)\n",
    "df.dropna(inplace=True)\n",
    "df.isnull().sum()"
   ]
  },
  {
   "cell_type": "code",
   "execution_count": 28,
   "metadata": {},
   "outputs": [
    {
     "data": {
      "text/html": [
       "<div>\n",
       "<style scoped>\n",
       "    .dataframe tbody tr th:only-of-type {\n",
       "        vertical-align: middle;\n",
       "    }\n",
       "\n",
       "    .dataframe tbody tr th {\n",
       "        vertical-align: top;\n",
       "    }\n",
       "\n",
       "    .dataframe thead th {\n",
       "        text-align: right;\n",
       "    }\n",
       "</style>\n",
       "<table border=\"1\" class=\"dataframe\">\n",
       "  <thead>\n",
       "    <tr style=\"text-align: right;\">\n",
       "      <th></th>\n",
       "      <th>precipitacao</th>\n",
       "      <th>pressao_atm</th>\n",
       "      <th>temperatura</th>\n",
       "      <th>temperatura_orvalho</th>\n",
       "      <th>umidade_rel_ar</th>\n",
       "      <th>data</th>\n",
       "    </tr>\n",
       "  </thead>\n",
       "  <tbody>\n",
       "    <tr>\n",
       "      <th>precipitacao</th>\n",
       "      <td>1.000000</td>\n",
       "      <td>-0.079854</td>\n",
       "      <td>-0.002456</td>\n",
       "      <td>0.094573</td>\n",
       "      <td>0.087079</td>\n",
       "      <td>-0.001727</td>\n",
       "    </tr>\n",
       "    <tr>\n",
       "      <th>pressao_atm</th>\n",
       "      <td>-0.079854</td>\n",
       "      <td>1.000000</td>\n",
       "      <td>-0.502989</td>\n",
       "      <td>-0.383672</td>\n",
       "      <td>0.153046</td>\n",
       "      <td>0.120468</td>\n",
       "    </tr>\n",
       "    <tr>\n",
       "      <th>temperatura</th>\n",
       "      <td>-0.002456</td>\n",
       "      <td>-0.502989</td>\n",
       "      <td>1.000000</td>\n",
       "      <td>0.332461</td>\n",
       "      <td>-0.659862</td>\n",
       "      <td>-0.046023</td>\n",
       "    </tr>\n",
       "    <tr>\n",
       "      <th>temperatura_orvalho</th>\n",
       "      <td>0.094573</td>\n",
       "      <td>-0.383672</td>\n",
       "      <td>0.332461</td>\n",
       "      <td>1.000000</td>\n",
       "      <td>0.467660</td>\n",
       "      <td>-0.055846</td>\n",
       "    </tr>\n",
       "    <tr>\n",
       "      <th>umidade_rel_ar</th>\n",
       "      <td>0.087079</td>\n",
       "      <td>0.153046</td>\n",
       "      <td>-0.659862</td>\n",
       "      <td>0.467660</td>\n",
       "      <td>1.000000</td>\n",
       "      <td>0.013535</td>\n",
       "    </tr>\n",
       "    <tr>\n",
       "      <th>data</th>\n",
       "      <td>-0.001727</td>\n",
       "      <td>0.120468</td>\n",
       "      <td>-0.046023</td>\n",
       "      <td>-0.055846</td>\n",
       "      <td>0.013535</td>\n",
       "      <td>1.000000</td>\n",
       "    </tr>\n",
       "  </tbody>\n",
       "</table>\n",
       "</div>"
      ],
      "text/plain": [
       "                     precipitacao  pressao_atm  temperatura  \\\n",
       "precipitacao             1.000000    -0.079854    -0.002456   \n",
       "pressao_atm             -0.079854     1.000000    -0.502989   \n",
       "temperatura             -0.002456    -0.502989     1.000000   \n",
       "temperatura_orvalho      0.094573    -0.383672     0.332461   \n",
       "umidade_rel_ar           0.087079     0.153046    -0.659862   \n",
       "data                    -0.001727     0.120468    -0.046023   \n",
       "\n",
       "                     temperatura_orvalho  umidade_rel_ar      data  \n",
       "precipitacao                    0.094573        0.087079 -0.001727  \n",
       "pressao_atm                    -0.383672        0.153046  0.120468  \n",
       "temperatura                     0.332461       -0.659862 -0.046023  \n",
       "temperatura_orvalho             1.000000        0.467660 -0.055846  \n",
       "umidade_rel_ar                  0.467660        1.000000  0.013535  \n",
       "data                           -0.055846        0.013535  1.000000  "
      ]
     },
     "execution_count": 28,
     "metadata": {},
     "output_type": "execute_result"
    }
   ],
   "source": [
    "correlation_matrix = df.corr()\n",
    "correlation_matrix"
   ]
  },
  {
   "cell_type": "code",
   "execution_count": null,
   "metadata": {},
   "outputs": [],
   "source": [
    "import seaborn as sns\n",
    "import matplotlib.pyplot as plt\n",
    "\n",
    "# Criando um box plot\n",
    "sns.boxplot(x=df['precipitacao'])\n",
    "plt.show()"
   ]
  },
  {
   "cell_type": "code",
   "execution_count": null,
   "metadata": {},
   "outputs": [],
   "source": [
    "lower_limit = 0  # Defina o limite inferior\n",
    "upper_limit = 17  # Defina o limite superior\n",
    "\n",
    "df_no_outliers = df[(df['precipitacao'] >= lower_limit) & (df['precipitacao'] <= upper_limit)]\n",
    "\n",
    "sns.boxplot(x=df_no_outliers['precipitacao'])\n",
    "plt.show()"
   ]
  },
  {
   "cell_type": "code",
   "execution_count": 46,
   "metadata": {},
   "outputs": [
    {
     "name": "stderr",
     "output_type": "stream",
     "text": [
      "C:\\Users\\eduardo.oliveira\\AppData\\Local\\Temp\\ipykernel_9124\\131171770.py:21: DataConversionWarning: A column-vector y was passed when a 1d array was expected. Please change the shape of y to (n_samples,), for example using ravel().\n",
      "  model.fit(X_train, y_train)\n"
     ]
    },
    {
     "name": "stdout",
     "output_type": "stream",
     "text": [
      "Mean Squared Error: 1.2909423692035806\n",
      "Root Mean Squared Error: 1.136196448332585\n",
      "Variância da Precipitação nos Dados de Teste: precipitacao    1.294116\n",
      "dtype: float64\n"
     ]
    },
    {
     "data": {
      "image/png": "[encoded data removed]",
      "text/plain": [
       "<Figure size 640x480 with 1 Axes>"
      ]
     },
     "metadata": {},
     "output_type": "display_data"
    }
   ],
   "source": [
    "import matplotlib.pyplot as plt\n",
    "\n",
    "from sklearn.metrics import mean_squared_error\n",
    "from sklearn.ensemble import RandomForestRegressor\n",
    "from sklearn.model_selection import train_test_split\n",
    "\n",
    "\n",
    "# Escolher as variáveis de entrada (features) e a variável de saída (target)\n",
    "X = df[['pressao_atm', 'temperatura', 'temperatura_orvalho', 'umidade_rel_ar']]\n",
    "y = df[['precipitacao']]\n",
    "\n",
    "X_train, X_test, y_train, y_test = train_test_split(X, y, test_size=0.2, random_state=42)\n",
    "\n",
    "# scaler = StandardScaler()\n",
    "# X_train = scaler.fit_transform(X_train)\n",
    "# X_test = scaler.transform(X_test)\n",
    "\n",
    "# Criar e treinar o modelo de regressão linear\n",
    "model = RandomForestRegressor(max_depth= 10, min_samples_leaf= 10, min_samples_split= 25, n_estimators= 50)\n",
    "\n",
    "model.fit(X_train, y_train)\n",
    "\n",
    "# Fazer previsões no conjunto de teste\n",
    "y_pred = model.predict(X_test)\n",
    "\n",
    "# Avaliar o desempenho do modelo\n",
    "mse = mean_squared_error(y_test, y_pred)\n",
    "print(f'Mean Squared Error: {mse}')\n",
    "\n",
    "rmse = np.sqrt(mse)\n",
    "print(f'Root Mean Squared Error: {rmse}')\n",
    "\n",
    "variance = np.var(y_test)\n",
    "print(f'Variância da Precipitação nos Dados de Teste: {variance}')\n",
    "\n",
    "# Visualizar as previsões\n",
    "plt.scatter(y_test, y_pred)\n",
    "plt.xlabel(\"Precipitação Observada\")\n",
    "plt.ylabel(\"Precipitação Prevista\")\n",
    "plt.title(\"Previsão de Precipitação\")\n",
    "plt.show()"
   ]
  },
  {
   "cell_type": "code",
   "execution_count": 48,
   "metadata": {},
   "outputs": [
    {
     "data": {
      "image/png": "[encoded data removed]",
      "text/plain": [
       "<Figure size 640x480 with 1 Axes>"
      ]
     },
     "metadata": {},
     "output_type": "display_data"
    }
   ],
   "source": [
    "plt.plot([i for i in range(0,3177)], y_test,label='Test')\n",
    "plt.plot([i for i in range(0,3177)], y_pred, label='Pred')\n",
    "\n",
    "plt.xlabel('Data')\n",
    "plt.ylabel('Preciptacao')\n",
    "plt.legend()\n",
    "plt.show()"
   ]
  },
  {
   "cell_type": "code",
   "execution_count": null,
   "metadata": {},
   "outputs": [],
   "source": []
  },
  {
   "cell_type": "code",
   "execution_count": null,
   "metadata": {},
   "outputs": [],
   "source": []
  },
  {
   "cell_type": "code",
   "execution_count": null,
   "metadata": {},
   "outputs": [],
   "source": []
  },
  {
   "cell_type": "code",
   "execution_count": null,
   "metadata": {},
   "outputs": [],
   "source": []
  },
  {
   "cell_type": "code",
   "execution_count": null,
   "metadata": {},
   "outputs": [],
   "source": [
    "Uma árvore de decisão pode ser uma escolha interessante, pois ela pode capturar relações não lineares nos dados"
   ]
  }
 ],
 "metadata": {
  "kernelspec": {
   "display_name": "Python 3",
   "language": "python",
   "name": "python3"
  },
  "language_info": {
   "codemirror_mode": {
    "name": "ipython",
    "version": 3
   },
   "file_extension": ".py",
   "mimetype": "text/x-python",
   "name": "python",
   "nbconvert_exporter": "python",
   "pygments_lexer": "ipython3",
   "version": "3.10.4"
  },
  "orig_nbformat": 4
 },
 "nbformat": 4,
 "nbformat_minor": 2
}
